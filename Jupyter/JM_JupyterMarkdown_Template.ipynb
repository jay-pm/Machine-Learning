{
 "cells": [
  {
   "cell_type": "markdown",
   "id": "3b624cc8",
   "metadata": {},
   "source": [
    "# 📘 Daily Learning – 2025-06-23"
   ]
  },
  {
   "cell_type": "markdown",
   "id": "2558ef64",
   "metadata": {},
   "source": [
    "\n",
    "## ✅ 1. Text Formatting\n",
    "\n",
    "**Bold Text**  \n",
    "*Italic Text*  \n",
    "~~Strikethrough~~  \n",
    "**Bold _and_ Italic**\n"
   ]
  },
  {
   "cell_type": "markdown",
   "id": "cc56b83b",
   "metadata": {},
   "source": [
    "\n",
    "## ✅ 2. Bullet and Numbered Lists\n",
    "\n",
    "- Item 1  \n",
    "- Item 2  \n",
    "  - Sub-item A  \n",
    "  - Sub-item B  \n",
    "\n",
    "1. First  \n",
    "2. Second  \n",
    "   1. Sub-second\n"
   ]
  },
  {
   "cell_type": "markdown",
   "id": "ae72d6f4",
   "metadata": {},
   "source": [
    "\n",
    "## ✅ 3. Checklists\n",
    "\n",
    "- [x] Task completed  \n",
    "- [ ] Task pending\n"
   ]
  },
  {
   "cell_type": "markdown",
   "id": "6b1306a0",
   "metadata": {},
   "source": [
    "\n",
    "## ✅ 4. Horizontal Line\n",
    "\n",
    "---\n",
    "\n",
    "This is below the line.\n"
   ]
  },
  {
   "cell_type": "markdown",
   "id": "dfc29cc1",
   "metadata": {},
   "source": [
    "\n",
    "## ✅ 5. Links\n",
    "\n",
    "[Visit OpenAI](https://www.openai.com)\n"
   ]
  },
  {
   "cell_type": "markdown",
   "id": "982c9db0",
   "metadata": {},
   "source": [
    "\n",
    "## ✅ 6. Images\n",
    "\n",
    "![Jupyter Logo](https://upload.wikimedia.org/wikipedia/commons/thumb/3/38/Jupyter_logo.svg/120px-Jupyter_logo.svg.png)\n",
    "\n",
    "Or local image:\n",
    "\n",
    "`![Alt Text](./images/your_image.png)`\n"
   ]
  },
  {
   "cell_type": "markdown",
   "id": "31565c2e",
   "metadata": {},
   "source": [
    "\n",
    "## ✅ 7. Code Blocks\n",
    "\n",
    "Inline code: `print(\"Hello\")`\n",
    "\n",
    "Multi-line code block:\n",
    "```python\n",
    "def hello():\n",
    "    print(\"Hello, world!\")\n",
    "```\n"
   ]
  },
  {
   "cell_type": "markdown",
   "id": "1175b468",
   "metadata": {},
   "source": [
    "\n",
    "## ✅ 8. Tables\n",
    "\n",
    "| Tool      | Purpose         |\n",
    "|-----------|-----------------|\n",
    "| Python    | Programming     |\n",
    "| Power BI  | Visualization   |\n"
   ]
  },
  {
   "cell_type": "markdown",
   "id": "77b61471",
   "metadata": {},
   "source": [
    "\n",
    "## ✅ 9. Blockquotes\n",
    "\n",
    "> This is a blockquote.  \n",
    "> Useful for highlighting tips.\n"
   ]
  },
  {
   "cell_type": "markdown",
   "id": "ce8f82cb",
   "metadata": {},
   "source": [
    "\n",
    "## ✅ 10. Colored Text (HTML Hack)\n",
    "\n",
    "<span style=\"color:blue\">Blue Text</span>  \n",
    "<span style=\"color:red\">Red Text</span>  \n",
    "<span style=\"background-color:yellow\">Highlighted Text</span>\n",
    "\n",
    "<b><span style=\"color:green\">Important Insight</span></b>\n"
   ]
  },
  {
   "cell_type": "markdown",
   "id": "93efc4af",
   "metadata": {},
   "source": [
    "\n",
    "## ✅ 11. LaTeX / Math Equations\n",
    "\n",
    "Inline: $E = mc^2$  \n",
    "\n",
    "Block:\n",
    "\n",
    "$$\n",
    "\\frac{d}{dx} \\left( x^2 \\right) = 2x\n",
    "$$\n"
   ]
  },
  {
   "cell_type": "markdown",
   "id": "76a52ade",
   "metadata": {},
   "source": [
    "\n",
    "## ✅ 12. Line Breaks\n",
    "\n",
    "This line ends with two spaces.  \n",
    "This appears on the next line.\n",
    "\n",
    "This is a new paragraph (blank line above).\n"
   ]
  },
  {
   "cell_type": "markdown",
   "id": "e2c14640",
   "metadata": {},
   "source": [
    "\n",
    "## ✅ 13. Full Example To-Do Learning Log\n",
    "\n",
    "### Topics Covered\n",
    "- [x] Markdown in Jupyter  \n",
    "- [ ] Power BI relationships  \n",
    "- [ ] Data cleaning with Pandas  \n",
    "\n",
    "### Key Insight\n",
    "<b><span style=\"color:darkgreen\">Markdown makes notebooks readable and professional.</span></b>\n",
    "\n",
    "### Chart Snapshot\n",
    "![Sales Trend](./images/sales_trend.png)\n",
    "\n",
    "### Reference\n",
    "[Markdown Cheatsheet](https://www.markdownguide.org/cheat-sheet/)\n"
   ]
  }
 ],
 "metadata": {
  "kernelspec": {
   "display_name": "Python 3 (ipykernel)",
   "language": "python",
   "name": "python3"
  },
  "language_info": {
   "codemirror_mode": {
    "name": "ipython",
    "version": 3
   },
   "file_extension": ".py",
   "mimetype": "text/x-python",
   "name": "python",
   "nbconvert_exporter": "python",
   "pygments_lexer": "ipython3",
   "version": "3.12.7"
  }
 },
 "nbformat": 4,
 "nbformat_minor": 5
}
